{
  "nbformat": 4,
  "nbformat_minor": 0,
  "metadata": {
    "colab": {
      "provenance": []
    },
    "kernelspec": {
      "name": "python3",
      "display_name": "Python 3"
    },
    "language_info": {
      "name": "python"
    }
  },
  "cells": [
    {
      "cell_type": "markdown",
      "source": [
        "#**THEORATICAL QUESTIONS**"
      ],
      "metadata": {
        "id": "9RYcBNTM8en3"
      }
    },
    {
      "cell_type": "markdown",
      "source": [
        "1.What is Object-Oriented Programming(OOP)?\n",
        ">Object-Oriented Programming (OOP) is a programming paradigm based on the concept of objects, which contain data (attributes) and functions (methods).\n",
        "It helps in organizing code using classes, making it reusable, modular, and easier to manage.\n",
        "OOP allows concepts like inheritance, encapsulation, polymorphism, and abstraction.\n",
        "It's widely used in real-world modeling, such as creating systems with cars, employees, or bank accounts.\n",
        "\n",
        "2.What is a class in OOP?\n",
        ">In Object-Oriented Programming (OOP), a class is a blueprint or template for creating objects.\n",
        "It defines attributes (data members) and methods (functions) that the objects created from the class will have.\n",
        "A class does not hold any data itself—objects (instances) created from it do.\n",
        "Think of a class like a car design, and each car made from it is an object.\n",
        "\n",
        "3.What is an object in OOP?\n",
        ">In Object-Oriented Programming (OOP), an object is an instance of a class.\n",
        "It represents a real-world entity with state (attributes) and behavior (methods).\n",
        "Objects are created using the class blueprint and hold actual data.\n",
        "For example, if Car is a class, then my_car = Car(\"Tesla\") creates an object my_car.\n",
        "\n",
        "4.What is the difference between abstraction and encapsulation?\n",
        ">Abstraction means hiding complex details and showing only essential features to the user.\n",
        "Encapsulation means wrapping data and methods into a single unit and protecting it from outside access.\n",
        "Abstraction focuses on what an object does, not how.\n",
        "Encapsulation focuses on how data is stored and accessed securely.\n",
        "\n",
        "5.What are dunder methods in Python?\n",
        ">Dunder methods in Python are special methods that start and end with double underscores (e.g., __init__, __str__).\n",
        "They are also called magic methods and are used to define the behavior of objects for built-in operations.\n",
        "For example, __init__ initializes objects, and __add__ defines behavior for the + operator.\n",
        "They make classes behave more like built-in types in Python.\n",
        "\n",
        "6.Explain the concept of inheritance in OOP.\n",
        ">Inheritance in OOP allows a class (child/derived) to acquire properties and behaviors of another class (parent/base).\n",
        "It promotes code reusability and reduces redundancy.\n",
        "The child class can also have its own attributes and methods, or override the parent’s.\n",
        "\n",
        ">Example: A Car class can inherit from a Vehicle class\n",
        "\n",
        "7.What is polymorphism in OOP?\n",
        ">Polymorphism in OOP means the same function or method name can behave differently based on the object calling it.\n",
        "It allows for method overriding (inherited methods redefined in child classes) and method overloading (same method with different parameters – not natively supported in Python).\n",
        "Polymorphism improves flexibility and code reuse.\n",
        "\n",
        "8.How is encapsulation achieved in Python?\n",
        ">Encapsulation in Python is achieved by hiding internal data and restricting direct access using:\n",
        "\n",
        ">Private attributes/methods by prefixing with double underscores (__var), making them inaccessible from outside.\n",
        "\n",
        ">Protected attributes with a single underscore (_var), by convention meant for internal use.\n",
        "\n",
        ">Getter and setter methods or using @property decorators to control access.\n",
        "\n",
        ">It helps in data protection and secure code design\n",
        "\n",
        "9.What is a constructor in Python?\n",
        ">A constructor in Python is a special method called __init__() that automatically runs when an object is created.\n",
        "It is used to initialize the object’s attributes with given values.\n",
        "You define it inside a class, and it can take arguments to set up the object\n",
        "\n",
        "10.What are class and static methods in Python?\n",
        ">Class Method: Defined using @classmethod, takes cls as the first parameter, and can access/modify class-level data.\n",
        "\n",
        ">Static Method: Defined using @staticmethod, takes no special first parameter (self or cls) and behaves like a regular function inside a class.\n",
        "\n",
        ">Class methods are used for alternative constructors or class-level operations.\n",
        "\n",
        ">Static methods are used for utility functions related to the class but don’t need access to instance or class data.\n",
        "\n",
        "11.What is method overloading in Python?\n",
        ">Method overloading in Python means defining multiple methods with the same name but different parameters.\n",
        "However, Python does not support true method overloading like some other languages (e.g., Java).\n",
        "Instead, you can achieve similar behavior using default arguments or *args and **args.\n",
        "This allows a single method to handle different numbers or types of arguments.\n",
        "\n",
        "12.What is method overriding in OOP?\n",
        ">Method overriding in OOP occurs when a child class defines a method with the same name and parameters as a method in its parent class.\n",
        "The child class's method replaces the parent’s version when called through a child object.\n",
        "It allows customization of inherited behavior\n",
        "\n",
        "13.What is a property decorator in Python?\n",
        ">The @property decorator in Python is used to turn a method into a getter, allowing you to access it like an attribute.\n",
        "It helps in encapsulation by controlling access to private attributes without changing the interface.\n",
        "\n",
        "14.Why is polymorphism important in OOP?\n",
        ">Polymorphism allows the same method name to work differently for different classes.\n",
        "It helps in writing flexible and reusable code.\n",
        "New classes can be added without changing existing code.\n",
        "It supports dynamic behavior and cleaner design in OOP.\n",
        "\n",
        "15.What is an abstract class in Python?\n",
        ">An abstract class in Python is a class that cannot be instantiated directly.\n",
        "It is used to define a common interface for its subclasses using abstract methods.\n",
        "You create it using the ABC module and @abstractmethod decorator.\n",
        "Subclasses must override all abstract methods to be instantiated.\n",
        "\n",
        "16.What are the advantages of OOP?\n",
        ">Here are the key advantages of Object-Oriented Programming (OOP) in 4 lines:\n",
        "\n",
        ">Modularity – Code is organized into classes, making it easier to manage and debug.\n",
        "\n",
        ">Reusability – Classes and objects can be reused across programs using inheritance.\n",
        "\n",
        ">Scalability & Maintainability – Easier to scale and update code without affecting other parts.\n",
        "\n",
        ">Data Security – Encapsulation helps protect data by restricting direct access.\n",
        "\n",
        "17.What is the difference between a class variable and an instance variable?\n",
        ">Class Variable is shared by all objects of a class and defined outside methods.\n",
        "\n",
        ">Instance Variable is unique to each object and defined using self inside methods.\n",
        "\n",
        ">Changing a class variable affects all instances; changing an instance variable affects only that object.\n",
        "\n",
        ">Class variables store common data, while instance variables store object-specific data.\n",
        "\n",
        "18.What is multiple inheritance in Python?\n",
        ">Multiple inheritance in Python means a class can inherit from more than one parent class.\n",
        "This allows a child class to combine features of multiple base classes.\n",
        "Python supports it directly by passing multiple classes in parentheses.\n",
        "\n",
        "19.Explain the purpose of ‘’__str__’ and ‘__repr__’ ‘ methods in Python.\n",
        ">The __str__ and __repr__ methods in Python are used to define string representations of objects:\n",
        "\n",
        ">__str__: Returns a user-friendly string, used when printing an object with print().\n",
        "\n",
        ">__repr__: Returns a developer-friendly string, used for debugging and in the interpreter.\n",
        "\n",
        ">If __str__ is not defined, Python uses __repr__ as a fallback.\n",
        "\n",
        "20.What is the significance of the ‘super()’ function in Python?\n",
        ">The super() function in Python is used to call methods from a parent class.\n",
        "It is commonly used in inheritance to access the parent class’s __init__ or other methods.\n",
        "It helps in code reuse and supports multiple inheritance with proper method resolution.\n",
        "Using super() makes your code cleaner and easier to maintain.\n",
        "\n",
        "21.What is the significance of the __del__ method in Python?\n",
        ">The __del__ method in Python is a destructor that is called when an object is about to be destroyed.\n",
        "It's used to perform cleanup tasks, like closing files or releasing resources.\n",
        "However, its use is rare and can be unpredictable, especially with garbage collection.\n",
        "\n",
        "22.What is the difference between @staticmethod and @classmethod in Python?\n",
        ">@staticmethod: Does not take self or cls as the first argument.\n",
        "– Acts like a regular function inside a class, used for utility methods.\n",
        "\n",
        ">@classmethod: Takes cls as the first argument (refers to the class itself).\n",
        "– Can access or modify class-level variables and is often used for alternative constructors.\n",
        "\n",
        "23.How does polymorphism work in Python with inheritance?\n",
        ">Polymorphism with inheritance in Python works by allowing a child class to override a method of its parent class, so the same method name behaves differently based on the object.\n",
        "\n",
        ">The parent class defines a method (e.g., speak()), and child classes override it.\n",
        "\n",
        ">When the method is called on a parent reference, Python dynamically decides which version to run based on the object.\n",
        "\n",
        "> enables writing flexible and reusable code.\n",
        "\n",
        "24.What is method chaining in Python OOP?\n",
        ">Method chaining in Python OOP is a technique where multiple methods are called in a single line, one after another, using dot (.) notation.\n",
        "It works by having each method return self, allowing the next method to be called on the same object.\n",
        "This makes the code more concise and readable.\n",
        "It’s commonly used in builder patterns and fluent interfaces.\n",
        "\n",
        "25.What is the purpose of the __call__ method in Python?\n",
        ">The __call__ method in Python allows an object to be called like a function.\n",
        "When you define __call__ in a class, you can use the object with function-call syntax (obj()), and it will execute __call__.\n",
        "This is useful for creating function-like objects, decorators, or customizing behavior dynamically.\n",
        "It adds flexibility and can make objects act like stateful functions."
      ],
      "metadata": {
        "id": "_52NBFp3x4Kl"
      }
    },
    {
      "cell_type": "markdown",
      "source": [
        "#**PRACTICAL QUESTIONS**"
      ],
      "metadata": {
        "id": "n6yZ3uBf8awb"
      }
    },
    {
      "cell_type": "code",
      "source": [
        "#1. Create a parent class Animal with a method speak() that prints a generic message. Create a child class Dog that overrides the speak() method to print \"Bark!\"\n",
        "class Animal:\n",
        "    def speak(self):\n",
        "        print(\"this is Animal class\")\n",
        "class dog(Animal):\n",
        "    def speak(self):\n",
        "        print(\"Barkk!\")\n",
        "d=dog()\n",
        "d.speak()"
      ],
      "metadata": {
        "colab": {
          "base_uri": "https://localhost:8080/"
        },
        "id": "dyajXY_p44UK",
        "outputId": "7812b3fb-10fe-45b4-acfa-3b164da67529"
      },
      "execution_count": 1,
      "outputs": [
        {
          "output_type": "stream",
          "name": "stdout",
          "text": [
            "Barkk!\n"
          ]
        }
      ]
    },
    {
      "cell_type": "code",
      "source": [
        "# 2. Write a program to create an abstract class Shape with a method area(). Derive classes Circle and Rectangle from it and implement the area() method in both.\\\n",
        "import abc\n",
        "class Shape():\n",
        "    @abc.abstractmethod\n",
        "    def area(self):\n",
        "        pass\n",
        "class Rectangle(Shape):\n",
        "    def __init__(self,l,b):\n",
        "        self.l=l\n",
        "        self.b=b\n",
        "    def area(self):\n",
        "        return self.l*self.b\n",
        "class  Circle(Shape):\n",
        "    def  __init__(self,r):\n",
        "        self.r=r\n",
        "    def area (self):\n",
        "        return (3.14*self.r*self.r )\n",
        "r=Rectangle(3,6)\n",
        "print('area of rectangle:',r.area())\n",
        "c=Circle(4)\n",
        "print('area of circle:',c.area() )\n",
        ""
      ],
      "metadata": {
        "colab": {
          "base_uri": "https://localhost:8080/"
        },
        "id": "eQLbFDgO5S3F",
        "outputId": "5f40647a-68c7-42f2-b6e1-63c012b9e5c2"
      },
      "execution_count": 2,
      "outputs": [
        {
          "output_type": "stream",
          "name": "stdout",
          "text": [
            "area of rectangle: 18\n",
            "area of circle: 50.24\n"
          ]
        }
      ]
    },
    {
      "cell_type": "code",
      "source": [
        "# 3. Implement a multi-level inheritance scenario where a class Vehicle has an attribute type. Derive a class Car and further derive a class ElectricCar that adds a battery attribute.\n",
        "\n",
        "class Vehicle:\n",
        "    def __init__(self, type):\n",
        "        self.type = type\n",
        "\n",
        "    def show_type(self):\n",
        "        print(\"Vehicle type:\", self.type)\n",
        "\n",
        "\n",
        "class Car(Vehicle):\n",
        "    def __init__(self, type, brand):\n",
        "        super().__init__(type)\n",
        "        self.brand = brand\n",
        "\n",
        "    def show_brand(self):\n",
        "\n",
        "        print(\"Brand of car:\", self.brand)\n",
        "\n",
        "class ElectricCar(Car):\n",
        "    def __init__(self, type, brand, battery):\n",
        "        super().__init__(type, brand)\n",
        "        self.battery = battery\n",
        "\n",
        "    def show_details(self):\n",
        "        self.show_type()\n",
        "        self.show_brand()\n",
        "        print(\"Battery capacity:\", self.battery, \"kWh\")\n",
        "\n",
        "\n",
        "e_car = ElectricCar(\"Four Wheeler\", \"Tesla\", 75)\n",
        "e_car.show_details()\n"
      ],
      "metadata": {
        "colab": {
          "base_uri": "https://localhost:8080/"
        },
        "id": "7g__Ll435eWo",
        "outputId": "f17be30a-3e5d-4aa6-9283-bf9fa087aaf1"
      },
      "execution_count": 3,
      "outputs": [
        {
          "output_type": "stream",
          "name": "stdout",
          "text": [
            "Vehicle type: Four Wheeler\n",
            "Brand of car: Tesla\n",
            "Battery capacity: 75 kWh\n"
          ]
        }
      ]
    },
    {
      "cell_type": "code",
      "source": [
        "# 4. Demonstrate polymorphism by creating a base class Bird with a method fly(). Create two derived classes Sparrow and Penguin that override the fly() method.\n",
        "class BirD:\n",
        "    def fly(self):\n",
        "        print('bird is flying')\n",
        "class Sparrow(BirD) :\n",
        "    def fly(self):\n",
        "        print('sparrow is flying')\n",
        "class Penguin(BirD):\n",
        "    def fly(self):\n",
        "        print('penguin cannot fly')\n",
        "s=Sparrow()\n",
        "s.fly()\n",
        "p=Penguin()\n",
        "p.fly()"
      ],
      "metadata": {
        "colab": {
          "base_uri": "https://localhost:8080/"
        },
        "id": "ePFA8jg_5qDG",
        "outputId": "05dbd976-60b7-4e44-f6a6-6b372a822d4a"
      },
      "execution_count": 4,
      "outputs": [
        {
          "output_type": "stream",
          "name": "stdout",
          "text": [
            "sparrow is flying\n",
            "penguin cannot fly\n"
          ]
        }
      ]
    },
    {
      "cell_type": "code",
      "source": [
        "#5. Write a program to demonstrate encapsulation by creating a class BankAccount with private attributes balance and methods to deposit, withdraw, and check balance\n",
        "class BankAccount:\n",
        "    def __init__(self,balance):\n",
        "        self.__balance=balance\n",
        "    def deposit(self,amount):\n",
        "        self.__balance+=amount\n",
        "        print('deposited amount:',amount)\n",
        "    def withdraw(self,amount1):\n",
        "        if amount1>self.__balance:\n",
        "            print('insufficient balance')\n",
        "        else:\n",
        "            self.__balance-=amount1\n",
        "            print('withdrawl amount:',amount1)\n",
        "    def check_balance(self):\n",
        "        print(\"current balance:\",self.__balance)\n",
        "ba=BankAccount(10000)\n",
        "ba.deposit(500)\n",
        "ba.check_balance()\n",
        "ba.withdraw(200)\n",
        "ba.check_balance()\n",
        "\n"
      ],
      "metadata": {
        "colab": {
          "base_uri": "https://localhost:8080/"
        },
        "id": "xH7jjeZ552eR",
        "outputId": "116ef9ed-4ff3-4046-bdb7-59463e4d4391"
      },
      "execution_count": 5,
      "outputs": [
        {
          "output_type": "stream",
          "name": "stdout",
          "text": [
            "deposited amount: 500\n",
            "current balance: 10500\n",
            "withdrawl amount: 200\n",
            "current balance: 10300\n"
          ]
        }
      ]
    },
    {
      "cell_type": "code",
      "source": [
        "# 6. Demonstrate runtime polymorphism using a method play() in a base class Instrument. Derive classes Guitar and Piano that implement their own version of play().\n",
        "class Instrument:\n",
        "    def play(self):\n",
        "        print('Boy is playing an instrument')\n",
        "class Guiitar(Instrument):\n",
        "    def play(self):\n",
        "        print(\"boy is playing Guitar\")\n",
        "class Piano(Instrument):\n",
        "    def play(self):\n",
        "        print(\"boy is playing piano\")\n",
        "g=Guiitar()\n",
        "g.play()\n",
        "p=Piano()\n",
        "p.play()"
      ],
      "metadata": {
        "colab": {
          "base_uri": "https://localhost:8080/"
        },
        "id": "kkxrwyB16CNH",
        "outputId": "235647ae-69e3-4657-a1c4-e984ba56813b"
      },
      "execution_count": 6,
      "outputs": [
        {
          "output_type": "stream",
          "name": "stdout",
          "text": [
            "boy is playing Guitar\n",
            "boy is playing piano\n"
          ]
        }
      ]
    },
    {
      "cell_type": "code",
      "source": [
        "# 7. Create a class MathOperations with a class method add_numbers() to add two numbers and a static method subtract_numbers() to subtract two numbers\n",
        "class MathOperations:\n",
        "    @classmethod\n",
        "    def add_numbers(cls,a,b):\n",
        "        return a+b\n",
        "    @staticmethod\n",
        "    def subtsract_numbers(a,b):\n",
        "        return a-b\n",
        "print('sum:',MathOperations.add_numbers(3,1))\n",
        "print('difference:',MathOperations.subtsract_numbers(3,1))\n",
        "\n",
        "\n"
      ],
      "metadata": {
        "colab": {
          "base_uri": "https://localhost:8080/"
        },
        "id": "X8O38FxU6LzG",
        "outputId": "57cd041a-3a0c-49ac-c769-aaee7810a948"
      },
      "execution_count": 7,
      "outputs": [
        {
          "output_type": "stream",
          "name": "stdout",
          "text": [
            "sum: 4\n",
            "difference: 2\n"
          ]
        }
      ]
    },
    {
      "cell_type": "code",
      "source": [
        "#8.Implement a class Person with a class method to count the total number of persons created.\n",
        "class Person:\n",
        "    total_count=0\n",
        "    def __init__(self,name):\n",
        "        self.name=name\n",
        "        Person.total_count+=1\n",
        "    @classmethod\n",
        "    def count(cls):\n",
        "        return cls.total_count\n",
        "p=Person('Bhav')\n",
        "p=Person('Abhi')\n",
        "p=Person('Sagar')\n",
        "print(f'total count:{Person.count()}')\n"
      ],
      "metadata": {
        "colab": {
          "base_uri": "https://localhost:8080/"
        },
        "id": "eDdDDYzu6VzO",
        "outputId": "ff48e9ba-6c4c-45ac-8431-b3036a734d7a"
      },
      "execution_count": 8,
      "outputs": [
        {
          "output_type": "stream",
          "name": "stdout",
          "text": [
            "total count:3\n"
          ]
        }
      ]
    },
    {
      "cell_type": "code",
      "source": [
        "#9. Write a class Fraction with attributes numerator and denominator. Override the str method to display the fraction as \"numerator/denominator\".\n",
        "class Fraction:\n",
        "    def __init__(self,numerator,denominator):\n",
        "        self.numerator=numerator\n",
        "        self.denominator=denominator\n",
        "    def __str__(self):\n",
        "        return f'{self.numerator}/{self.denominator}'\n",
        "f=Fraction(2,3)\n",
        "print(f)"
      ],
      "metadata": {
        "colab": {
          "base_uri": "https://localhost:8080/"
        },
        "id": "I-dNozjT6gwZ",
        "outputId": "b7ef2fa7-1d46-428a-afda-8bf86a3c5b19"
      },
      "execution_count": 9,
      "outputs": [
        {
          "output_type": "stream",
          "name": "stdout",
          "text": [
            "2/3\n"
          ]
        }
      ]
    },
    {
      "cell_type": "code",
      "source": [
        "#.10. Demonstrate operator overloading by creating a class Vector and overriding the add method to add two vectors.\n",
        "class Vector:\n",
        "    def __init__(self,x,y):\n",
        "        self.x=x\n",
        "        self.y=y\n",
        "    def __add__(self,other):\n",
        "        return Vector(self.x+other.x,self.y+other.y)\n",
        "    def __str__(self):\n",
        "        return f'({self.x},{self.y})'\n",
        "v1=Vector(1,2)\n",
        "v2=Vector(2,3)\n",
        "v3=v1+v2\n",
        "print(v3)\n",
        "\n",
        "\n"
      ],
      "metadata": {
        "colab": {
          "base_uri": "https://localhost:8080/"
        },
        "id": "6AIchA2H6qgW",
        "outputId": "43fb4fcd-aa95-4dfe-d4d3-22856763b4f1"
      },
      "execution_count": 10,
      "outputs": [
        {
          "output_type": "stream",
          "name": "stdout",
          "text": [
            "(3,5)\n"
          ]
        }
      ]
    },
    {
      "cell_type": "code",
      "source": [
        "# 11. Create a class Person with attributes name and age. Add a method greet() that prints \"Hello, my name is {name} and I am {age} years old.\"\n",
        "class Person:\n",
        "    def __init__(self,name,age):\n",
        "        self.name=name\n",
        "        self.age=age\n",
        "    def greet(self):\n",
        "        print(f'Hello my name is {self.name} and  i am {self.age} years old')\n",
        "p1=Person('Bhavsagar',20)\n",
        "p1.greet()\n",
        "p2=Person('Abhishek',21)\n",
        "p2.greet()"
      ],
      "metadata": {
        "colab": {
          "base_uri": "https://localhost:8080/"
        },
        "id": "x_-L_rN9670x",
        "outputId": "857a5480-9c1f-4ba0-89f6-a2d2437502c5"
      },
      "execution_count": 11,
      "outputs": [
        {
          "output_type": "stream",
          "name": "stdout",
          "text": [
            "Hello my name is Bhavsagar and  i am 20 years old\n",
            "Hello my name is Abhishek and  i am 21 years old\n"
          ]
        }
      ]
    },
    {
      "cell_type": "code",
      "source": [
        "# 12. Implement a class Student with attributes name and grades. Create a method average_grade() to compute the average of the grades.\n",
        "class  Student:\n",
        "    def __init__(self,name,grades):\n",
        "            self.name=name\n",
        "            self.grades=grades\n",
        "    def average_grades(self):\n",
        "         avg= sum(self.grades)/len(self.grades)\n",
        "         print(f'Name : {self.name}')\n",
        "         print(f'Average grades : {avg}')\n",
        "s=Student('Bhav',[89,99,56,90])\n",
        "s.average_grades()\n",
        "\n",
        "\n",
        ""
      ],
      "metadata": {
        "colab": {
          "base_uri": "https://localhost:8080/"
        },
        "id": "yiAyKq1I7Ftj",
        "outputId": "ca8d6448-8453-4364-d311-fd45c5374dbd"
      },
      "execution_count": 12,
      "outputs": [
        {
          "output_type": "stream",
          "name": "stdout",
          "text": [
            "Name : Bhav\n",
            "Average grades : 83.5\n"
          ]
        }
      ]
    },
    {
      "cell_type": "code",
      "source": [
        "#13. Create a class Rectangle with methods set_dimensions() to set the dimensions and area() to calculate the area.\n",
        "class Rectangle:\n",
        "    def set_dimensions(self,length,width):\n",
        "        self.length=length\n",
        "        self.width=width\n",
        "    def area(self):\n",
        "        return self.length*self.width\n",
        "r=Rectangle()\n",
        "r.set_dimensions(5,6)\n",
        "print('AREA:',r.area())"
      ],
      "metadata": {
        "colab": {
          "base_uri": "https://localhost:8080/"
        },
        "id": "8V2PNPf-7O6m",
        "outputId": "50cd4ce5-c635-4f06-f167-f7562e771c00"
      },
      "execution_count": 13,
      "outputs": [
        {
          "output_type": "stream",
          "name": "stdout",
          "text": [
            "AREA: 30\n"
          ]
        }
      ]
    },
    {
      "cell_type": "code",
      "source": [
        "# 14. Create a class Employee with a method calculate_salary() that computes the salary based on hours worked and hourly rate. Create a derived class Manager that adds a bonus to the salary.\n",
        "class Employee:\n",
        "    def calculate_salary(self,hours_worked,hourly_rate):\n",
        "        s= hours_worked*hourly_rate\n",
        "        return f'Salary is : {s}'\n",
        "class Manager(Employee):\n",
        "    def bonus(self,hours_worked,hourly_rate,bonus):\n",
        "        b=(hours_worked*hourly_rate)+bonus\n",
        "        return f'Salary with bonus is : {b}'\n",
        "m= Manager()\n",
        "print(m.calculate_salary(40,5000))\n",
        "print(m.bonus(40,5000,10000))"
      ],
      "metadata": {
        "colab": {
          "base_uri": "https://localhost:8080/"
        },
        "id": "ZjsqIPa-7Ync",
        "outputId": "bb23339a-b5ce-4675-9959-1d0778c3f55e"
      },
      "execution_count": 14,
      "outputs": [
        {
          "output_type": "stream",
          "name": "stdout",
          "text": [
            "Salary is : 200000\n",
            "Salary with bonus is : 210000\n"
          ]
        }
      ]
    },
    {
      "cell_type": "code",
      "source": [
        "#15. Create a class Product with attributes name, price, and quantity. Implement a method total_price() that calculates the total price of the product.\n",
        "class Product:\n",
        "    def __init__(self,name,price,quality):\n",
        "        self.name=name\n",
        "        self.price=price\n",
        "        self.quality=quality\n",
        "    def total_price(self):\n",
        "        return f'Total price of {self.name} : {self.price*self.quality}'\n",
        "p=Product('laptop',50000,9)\n",
        "p. total_price()"
      ],
      "metadata": {
        "colab": {
          "base_uri": "https://localhost:8080/",
          "height": 35
        },
        "id": "8eWQ4NRK7iof",
        "outputId": "0ace2e22-5f55-41c4-c82e-7ff181d8532b"
      },
      "execution_count": 15,
      "outputs": [
        {
          "output_type": "execute_result",
          "data": {
            "text/plain": [
              "'Total price of laptop : 450000'"
            ],
            "application/vnd.google.colaboratory.intrinsic+json": {
              "type": "string"
            }
          },
          "metadata": {},
          "execution_count": 15
        }
      ]
    },
    {
      "cell_type": "code",
      "source": [
        "# 16. Create a class Animal with an abstract method sound(). Create two derived classes Cow and Sheep that implement the sound() method.\n",
        "import abc\n",
        "class Animal:\n",
        "    @abc.abstractmethod\n",
        "    def sound(self):\n",
        "        pass\n",
        "class Cow(Animal):\n",
        "    def sound(self):\n",
        "        print('cow sound--Moo')\n",
        "class Sheep(Animal):\n",
        "    def sound(self):\n",
        "        print('sheep sound--mmaa')\n",
        "c=Cow()\n",
        "s= Sheep()\n",
        "c.sound()\n",
        "s.sound()\n",
        "\n"
      ],
      "metadata": {
        "colab": {
          "base_uri": "https://localhost:8080/"
        },
        "id": "vbIq6Qnj7s4i",
        "outputId": "87a6da1b-3b84-4f47-88cb-7d273e27cc48"
      },
      "execution_count": 16,
      "outputs": [
        {
          "output_type": "stream",
          "name": "stdout",
          "text": [
            "cow sound--Moo\n",
            "sheep sound--mmaa\n"
          ]
        }
      ]
    },
    {
      "cell_type": "code",
      "source": [
        "# 17. Create a class Book with attributes title, author, and year_published. Add a method get_book_info() that returns a formatted string with the book's details\n",
        "class Book:\n",
        "    def __init__(self,title,author,year_published):\n",
        "        self.title=title\n",
        "        self.author=author\n",
        "        self.year_published=year_published\n",
        "    def get_book_info(self):\n",
        "        return f'Title: {self.title}, Author: {self.author}, Year Published: {self.year_published}'\n",
        "b= Book('HARRY POTTER','J.K ROWLINGS',1997)\n",
        "b.get_book_info()\n"
      ],
      "metadata": {
        "colab": {
          "base_uri": "https://localhost:8080/",
          "height": 35
        },
        "id": "bjmvmCpi72ug",
        "outputId": "1760ba81-3065-44a4-f048-6699900482b5"
      },
      "execution_count": 17,
      "outputs": [
        {
          "output_type": "execute_result",
          "data": {
            "text/plain": [
              "'Title: HARRY POTTER, Author: J.K ROWLINGS, Year Published: 1997'"
            ],
            "application/vnd.google.colaboratory.intrinsic+json": {
              "type": "string"
            }
          },
          "metadata": {},
          "execution_count": 17
        }
      ]
    },
    {
      "cell_type": "code",
      "source": [
        "#18. Create a class House with attributes address and price. Create a derived class Mansion that adds an attribute number_of_rooms.\n",
        "class House:\n",
        "    def __init__(self,address,price):\n",
        "        self.address=address\n",
        "        self.price=price\n",
        "class Mansion(House):\n",
        "    def __init__(self,address,price,no_of_rooms):\n",
        "        super().__init__(address,price)\n",
        "        self.no_of_rooms=no_of_rooms\n",
        "    def get_info(self):\n",
        "        print('Address :', self.address)\n",
        "        print('Price :', self.price)\n",
        "        print('No of rooms :',self.no_of_rooms)\n",
        "m=Mansion('123 Main St', 1000000, 8)\n",
        "m.get_info()\n",
        "\n"
      ],
      "metadata": {
        "colab": {
          "base_uri": "https://localhost:8080/"
        },
        "id": "nU9ERcKM8ChQ",
        "outputId": "4bb2fe6e-ef70-4dac-95dc-47aca8e46f49"
      },
      "execution_count": 18,
      "outputs": [
        {
          "output_type": "stream",
          "name": "stdout",
          "text": [
            "Address : 123 Main St\n",
            "Price : 1000000\n",
            "No of rooms : 8\n"
          ]
        }
      ]
    }
  ]
}