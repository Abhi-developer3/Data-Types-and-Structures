{
  "nbformat": 4,
  "nbformat_minor": 0,
  "metadata": {
    "colab": {
      "provenance": []
    },
    "kernelspec": {
      "name": "python3",
      "display_name": "Python 3"
    },
    "language_info": {
      "name": "python"
    }
  },
  "cells": [
    {
      "cell_type": "markdown",
      "source": [
        "# Data Types and Structures Assignment"
      ],
      "metadata": {
        "id": "wM17AutdznhN"
      }
    },
    {
      "cell_type": "markdown",
      "source": [
        "Theoretical questions\n",
        "\n",
        "1. What are data structures, and why are they important?\n",
        "- Data structures are ways to organize and store data efficiently. They are important because they enable efficient data access, modification, and storage.\n",
        "2. Explain the difference between mutable and immutable data types with examples.\n",
        "- Mutable types can be modified after creation (e.g., lists, dictionaries), while immutable types cannot be modified (e.g., tuples, strings).\n",
        "3. What are the main differences between lists and tuples in Python?\n",
        "- Lists are mutable while tuples are immutable.\n",
        "4. Describe how dictionaries store data.\n",
        "- Dictionary store data as key-value pair.Here, key is unique but value does not.\n",
        "5. Why might you use a set instead of a list in Python?\n",
        "- Sets automatically removes the duplicate values.\n",
        "6.  What is a string in Python, and how is it different from a list?\n",
        "- A string is an immutable sequence of characters, whereas a list is mutable and can contain different types of elements.\n",
        "7.  How do tuples ensure data integrity in Python?\n",
        "- Tuples are immutable, their data cannot be modified.\n",
        "8. What is a hash table, and how does it relate to dictionaries in Python?\n",
        "- A hash table stores key-value pairs and is used to implement Python dictionaries for fast lookups.\n",
        "9. Can lists contain different data types in Python?\n",
        "- Yes, lists contain different data types in python.\n",
        "10. Explain why strings are immutable in Python.\n",
        "- Strings are immutable to optimize memory usage and ensure security.\n",
        "11. What advantages do dictionaries offer over lists for certain tasks?\n",
        "- Dictionaries provide faster lookups by using keys instead of searching through an index. They also allow flexible and structured data storage, making them more efficient for large datasets where key-value associations are needed.\n",
        "12. Describe a scenario where using a tuple would be preferable over a list.\n",
        "- Tuples are preferable when storing fixed data that should not be modified. For example, storing geographic coordinates (latitude, longitude).\n",
        "13.  How do sets handle duplicate values in Python?\n",
        "- Sets automatically remove duplicate values. When elements are added to a set, Python ensures that only unique values are stored.\n",
        "14.  How does the “in” keyword work differently for lists and dictionaries?\n",
        "- In lists, the \"in\" keyword checks if a value exists by iterating through all elements. In dictionaries, it checks for the presence of a key, which is much faster due to hash-based lookups.\n",
        "15. Can you modify the elements of a tuple? Explain why or why not.\n",
        "- No, you cannot modify the elements of a tuple because tuples are immutable.\n",
        "16. What is a nested dictionary, and give an example of its use case?\n",
        "- A nested dictionary is a dictionary within another dictionary. It is useful for organizing complex data structures, such as storing student records where each student has their own dictionary of details.\n",
        "-Example:\n",
        "student_data = {\n",
        "\n",
        "    \"student1\": {\"name\": \"Alice\", \"age\": 20, \"grades\": [90, 85, 88]},\n",
        "\n",
        "    \"student2\": {\"name\": \"Bob\", \"age\": 22, \"grades\": [78, 82, 80]}\n",
        "}\n",
        "  \n",
        "    print(student_data[\"student1\"][\"name\"])\n",
        "17.  Describe the time complexity of accessing elements in a dictionary.\n",
        "- Accessing an element in a dictionary has an average time complexity of O(1) due to hash table lookups.\n",
        "18. In what situations are lists preferred over dictionaries.\n",
        "- Lists are preferred when maintaining an ordered collection of items, iterating through data sequentially, or when keys are unnecessary. Lists also consume less memory compared to dictionaries when storing large amounts of simple data.\n",
        "19. Why are dictionaries considered unordered, and how does that affect data retrieval?\n",
        "- Dictionary considered as unordered because retrieval is based on key hashes rather than sequential indexes. This affects data retrieval as elements are accessed using keys rather than positions, making lookups faster but unsuitable for ordered operations like slicing.\n",
        "20. Explain the difference between a list and a dictionary in terms of data retrieval.\n",
        "- Lists retrieve elements by index. Dictionaries retrieve values using keys, making them more efficient for fast lookups and large datasets.\n",
        "\n",
        "\n"
      ],
      "metadata": {
        "id": "O9pfUpL7aTzF"
      }
    },
    {
      "cell_type": "markdown",
      "source": [
        "Practical Questions"
      ],
      "metadata": {
        "id": "8LzwRV0ckmgT"
      }
    },
    {
      "cell_type": "code",
      "source": [
        "# 1.Write a code to create a string with your name and print it.\n",
        "name=\"Abhishek\"\n",
        "name"
      ],
      "metadata": {
        "colab": {
          "base_uri": "https://localhost:8080/",
          "height": 36
        },
        "id": "cnA9tNdxkdse",
        "outputId": "d8ea203b-ef53-4cf1-f303-bb0a46ff9df7"
      },
      "execution_count": 1,
      "outputs": [
        {
          "output_type": "execute_result",
          "data": {
            "text/plain": [
              "'Abhishek'"
            ],
            "application/vnd.google.colaboratory.intrinsic+json": {
              "type": "string"
            }
          },
          "metadata": {},
          "execution_count": 1
        }
      ]
    },
    {
      "cell_type": "code",
      "source": [
        "# 2.Write a code to find the length of the string \"Hello World\".\n",
        "print(len(\"Hello World\"))"
      ],
      "metadata": {
        "colab": {
          "base_uri": "https://localhost:8080/"
        },
        "id": "fONp-YE2lRt8",
        "outputId": "9c189619-fd99-45a8-873a-7e3cc50e3b81"
      },
      "execution_count": 2,
      "outputs": [
        {
          "output_type": "stream",
          "name": "stdout",
          "text": [
            "11\n"
          ]
        }
      ]
    },
    {
      "cell_type": "code",
      "source": [
        "# 3.Write a code to slice the first 3 characters from the string \"Python Programming\".\n",
        "print(\"Python programming\"[:3])"
      ],
      "metadata": {
        "colab": {
          "base_uri": "https://localhost:8080/"
        },
        "id": "V-KMMYO8ljAA",
        "outputId": "5b7237f9-2832-4da2-b9b3-cd23922fda3b"
      },
      "execution_count": 13,
      "outputs": [
        {
          "output_type": "stream",
          "name": "stdout",
          "text": [
            "Pyt\n"
          ]
        }
      ]
    },
    {
      "cell_type": "code",
      "source": [
        "# 4.Write a code to convert the string \"hello\" to uppercase.\n",
        "n=\"hello\"\n",
        "print(n.upper())"
      ],
      "metadata": {
        "colab": {
          "base_uri": "https://localhost:8080/"
        },
        "id": "mo-qQ9gNmJtc",
        "outputId": "70099c45-aa41-42a9-8378-dc6026329380"
      },
      "execution_count": 5,
      "outputs": [
        {
          "output_type": "stream",
          "name": "stdout",
          "text": [
            "HELLO\n"
          ]
        }
      ]
    },
    {
      "cell_type": "code",
      "source": [
        "# 5.Write a code to replace the word \"apple\" with \"orange\" in the string \"I like apple\".\n",
        "a=\"I like apple\"\n",
        "print(a.replace(\"apple\",\"orange\"))"
      ],
      "metadata": {
        "colab": {
          "base_uri": "https://localhost:8080/"
        },
        "id": "BpbYk4e1nJty",
        "outputId": "f5f6cc30-ae12-42c6-ff21-4df24faf9430"
      },
      "execution_count": 6,
      "outputs": [
        {
          "output_type": "stream",
          "name": "stdout",
          "text": [
            "I like orange\n"
          ]
        }
      ]
    },
    {
      "cell_type": "code",
      "source": [
        "# 6.Write a code to create a list with numbers 1 to 5 and print it.\n",
        "lis=[1,2,3,4,5]\n",
        "print(lis)\n"
      ],
      "metadata": {
        "colab": {
          "base_uri": "https://localhost:8080/"
        },
        "id": "gPRWqXELndw3",
        "outputId": "6651e074-ab51-4e58-bdd7-e2724de1181b"
      },
      "execution_count": 7,
      "outputs": [
        {
          "output_type": "stream",
          "name": "stdout",
          "text": [
            "[1, 2, 3, 4, 5]\n"
          ]
        }
      ]
    },
    {
      "cell_type": "code",
      "source": [
        "# 7.Write a code to append the number 10 to the list [1, 2, 3, 4].\n",
        "lis=[1,2,3,4]\n",
        "lis.append(10)\n",
        "print(lis)"
      ],
      "metadata": {
        "colab": {
          "base_uri": "https://localhost:8080/"
        },
        "id": "bm1P1zJBoxA8",
        "outputId": "08e06976-580d-42d1-80a1-1be136748304"
      },
      "execution_count": 9,
      "outputs": [
        {
          "output_type": "stream",
          "name": "stdout",
          "text": [
            "[1, 2, 3, 4, 10]\n"
          ]
        }
      ]
    },
    {
      "cell_type": "code",
      "source": [
        "# 8.Write a code to remove the number 3 from the list [1, 2, 3, 4, 5].\n",
        "lis=[1,2,3,4,5]\n",
        "lis.remove(3)\n",
        "lis"
      ],
      "metadata": {
        "colab": {
          "base_uri": "https://localhost:8080/"
        },
        "id": "SV5aoLhZpJ90",
        "outputId": "9e501034-7fcb-47f2-90e4-a65884bd8648"
      },
      "execution_count": 10,
      "outputs": [
        {
          "output_type": "execute_result",
          "data": {
            "text/plain": [
              "[1, 2, 4, 5]"
            ]
          },
          "metadata": {},
          "execution_count": 10
        }
      ]
    },
    {
      "cell_type": "code",
      "source": [
        "# 9.Write a code to access the second element in the list ['a', 'b', 'c', 'd'].\n",
        "lis=['a','b','c','d']\n",
        "print(lis[1])"
      ],
      "metadata": {
        "colab": {
          "base_uri": "https://localhost:8080/"
        },
        "id": "eN5Re5WEpfQ0",
        "outputId": "0b3ccee6-9d19-4b39-808c-40b29ef1b8c4"
      },
      "execution_count": 11,
      "outputs": [
        {
          "output_type": "stream",
          "name": "stdout",
          "text": [
            "b\n"
          ]
        }
      ]
    },
    {
      "cell_type": "code",
      "source": [
        "# 10.Write a code to reverse the list [10, 20, 30, 40, 50].\n",
        "lis=[10,20,30,40,50]\n",
        "lis.reverse()\n",
        "print(lis)"
      ],
      "metadata": {
        "colab": {
          "base_uri": "https://localhost:8080/"
        },
        "id": "JyCRzoilpzIq",
        "outputId": "17e7f1ef-256f-4b0b-8a36-4c2dec5adb53"
      },
      "execution_count": 12,
      "outputs": [
        {
          "output_type": "stream",
          "name": "stdout",
          "text": [
            "[50, 40, 30, 20, 10]\n"
          ]
        }
      ]
    },
    {
      "cell_type": "code",
      "source": [
        "# 11.Write a code to create a tuple with the elements 100, 200, 300 and print it.\n",
        "tup=(100,200,300)\n",
        "tup"
      ],
      "metadata": {
        "colab": {
          "base_uri": "https://localhost:8080/"
        },
        "id": "FOGF6G6pqLb7",
        "outputId": "8bd92ea6-c0bc-4cc3-c200-5f7bf27a837a"
      },
      "execution_count": 14,
      "outputs": [
        {
          "output_type": "execute_result",
          "data": {
            "text/plain": [
              "(100, 200, 300)"
            ]
          },
          "metadata": {},
          "execution_count": 14
        }
      ]
    },
    {
      "cell_type": "code",
      "source": [
        "# 12.Write a code to access the second-to-last element of the tuple ('red', 'green', 'blue', 'yellow').\n",
        "tup=('red','green','blue','yellow')\n",
        "print(tup[-2])"
      ],
      "metadata": {
        "colab": {
          "base_uri": "https://localhost:8080/"
        },
        "id": "bHPeHpGnrK1B",
        "outputId": "d7e91786-112c-4f30-fa37-7e9c9c8e1f05"
      },
      "execution_count": 15,
      "outputs": [
        {
          "output_type": "stream",
          "name": "stdout",
          "text": [
            "blue\n"
          ]
        }
      ]
    },
    {
      "cell_type": "code",
      "source": [
        "# 13.Write a code to find the minimum number in the tuple (10, 20, 5, 15).\n",
        "tup=(10,20,5,15)\n",
        "print(min(tup))"
      ],
      "metadata": {
        "colab": {
          "base_uri": "https://localhost:8080/"
        },
        "id": "Crtt3ssCrb0b",
        "outputId": "147e8635-413b-4851-e4bc-9c23d2481fda"
      },
      "execution_count": 17,
      "outputs": [
        {
          "output_type": "stream",
          "name": "stdout",
          "text": [
            "5\n"
          ]
        }
      ]
    },
    {
      "cell_type": "code",
      "source": [
        "# 14.Write a code to find the index of the element \"cat\" in the tuple ('dog', 'cat', 'rabbit').\n",
        "tup=('dog','cat','rabbit')\n",
        "tup.index(\"cat\")"
      ],
      "metadata": {
        "colab": {
          "base_uri": "https://localhost:8080/"
        },
        "id": "NqqG8nyyr8tW",
        "outputId": "9afcf5bb-107a-4b34-beda-4b5d93c4446f"
      },
      "execution_count": 18,
      "outputs": [
        {
          "output_type": "execute_result",
          "data": {
            "text/plain": [
              "1"
            ]
          },
          "metadata": {},
          "execution_count": 18
        }
      ]
    },
    {
      "cell_type": "code",
      "source": [
        "# 15.Write a code to create a tuple containing three different fruits and check if \"kiwi\" is in it.\n",
        "fruit=('apple','banana','mango','kiwi')\n",
        "('kiwi' in fruit)"
      ],
      "metadata": {
        "colab": {
          "base_uri": "https://localhost:8080/"
        },
        "id": "n28Y2cBttQ2y",
        "outputId": "b43fd64c-d0ae-48ac-d59b-655bbe30a676"
      },
      "execution_count": 19,
      "outputs": [
        {
          "output_type": "execute_result",
          "data": {
            "text/plain": [
              "True"
            ]
          },
          "metadata": {},
          "execution_count": 19
        }
      ]
    },
    {
      "cell_type": "code",
      "source": [
        "# 16.Write a code to create a set with the elements 'a', 'b', 'c' and print it.\n",
        "s={'a','b','c'}\n",
        "s"
      ],
      "metadata": {
        "colab": {
          "base_uri": "https://localhost:8080/"
        },
        "id": "h7PCwnGotqRw",
        "outputId": "3f3d5681-8588-43ac-fa69-2fb5fd4e72a9"
      },
      "execution_count": 20,
      "outputs": [
        {
          "output_type": "execute_result",
          "data": {
            "text/plain": [
              "{'a', 'b', 'c'}"
            ]
          },
          "metadata": {},
          "execution_count": 20
        }
      ]
    },
    {
      "cell_type": "code",
      "source": [
        "# 17.Write a code to clear all elements from the set {1, 2, 3, 4, 5}.\n",
        "s={1, 2, 3, 4, 5}\n",
        "s.clear()\n",
        "s"
      ],
      "metadata": {
        "colab": {
          "base_uri": "https://localhost:8080/"
        },
        "id": "98JGI6UIt5h5",
        "outputId": "e8ee62be-8733-4619-a933-1c8dc57cb45c"
      },
      "execution_count": 21,
      "outputs": [
        {
          "output_type": "execute_result",
          "data": {
            "text/plain": [
              "set()"
            ]
          },
          "metadata": {},
          "execution_count": 21
        }
      ]
    },
    {
      "cell_type": "code",
      "source": [
        "# 18.Write a code to remove the element 4 from the set {1, 2, 3, 4}.\n",
        "a={1,2,3,4}\n",
        "a.remove(4)\n",
        "print(a)"
      ],
      "metadata": {
        "colab": {
          "base_uri": "https://localhost:8080/"
        },
        "id": "LUWD_BfZuHaU",
        "outputId": "6b13c244-72ff-4035-9776-d308a38e32b9"
      },
      "execution_count": 22,
      "outputs": [
        {
          "output_type": "stream",
          "name": "stdout",
          "text": [
            "{1, 2, 3}\n"
          ]
        }
      ]
    },
    {
      "cell_type": "code",
      "source": [
        "# 19.Write a code to find the union of two sets {1, 2, 3} and {3, 4, 5}.\n",
        "a={1,2,3}\n",
        "b={3,4,5}\n",
        "a.union(b)"
      ],
      "metadata": {
        "colab": {
          "base_uri": "https://localhost:8080/"
        },
        "id": "yCP5B4xkuSN_",
        "outputId": "bc6b027d-333c-4536-ae41-c8b7ca9655ba"
      },
      "execution_count": 24,
      "outputs": [
        {
          "output_type": "execute_result",
          "data": {
            "text/plain": [
              "{1, 2, 3, 4, 5}"
            ]
          },
          "metadata": {},
          "execution_count": 24
        }
      ]
    },
    {
      "cell_type": "code",
      "source": [
        "# 20.Write a code to find the intersection of two sets {1, 2, 3} and {2, 3, 4}.\n",
        "a={1,2,3}\n",
        "b={2,3,4}\n",
        "a.intersection(b)"
      ],
      "metadata": {
        "colab": {
          "base_uri": "https://localhost:8080/"
        },
        "id": "mtp0Q1MouoQK",
        "outputId": "79375d74-b853-4aa4-ac7a-121802f42db5"
      },
      "execution_count": 25,
      "outputs": [
        {
          "output_type": "execute_result",
          "data": {
            "text/plain": [
              "{2, 3}"
            ]
          },
          "metadata": {},
          "execution_count": 25
        }
      ]
    },
    {
      "cell_type": "code",
      "source": [
        "# 21.Write a code to create a dictionary with the keys \"name\", \"age\", and \"city\", and print it\n",
        "dict={'name':'Abhi','age':20,'city':'delhi'}\n",
        "dict"
      ],
      "metadata": {
        "colab": {
          "base_uri": "https://localhost:8080/"
        },
        "id": "TOtosp4zu45E",
        "outputId": "ab152045-d1ce-4911-dd85-3bd92000d8c9"
      },
      "execution_count": 26,
      "outputs": [
        {
          "output_type": "execute_result",
          "data": {
            "text/plain": [
              "{'name': 'Abhi', 'age': 20, 'city': 'delhi'}"
            ]
          },
          "metadata": {},
          "execution_count": 26
        }
      ]
    },
    {
      "cell_type": "code",
      "source": [
        "# 22.Write a code to add a new key-value pair \"country\": \"USA\" to the dictionary {'name': 'John', 'age': 25}.\n",
        "dict={'name': 'John', 'age': 25}\n",
        "dict['country']='USA'\n",
        "print(dict)"
      ],
      "metadata": {
        "colab": {
          "base_uri": "https://localhost:8080/"
        },
        "id": "P9zVMx0bwBb-",
        "outputId": "aa0e43e9-b181-42ab-ae5f-ddc901a3faa8"
      },
      "execution_count": 27,
      "outputs": [
        {
          "output_type": "stream",
          "name": "stdout",
          "text": [
            "{'name': 'John', 'age': 25, 'country': 'USA'}\n"
          ]
        }
      ]
    },
    {
      "cell_type": "code",
      "source": [
        "# 23.Write a code to access the value associated with the key \"name\" in the dictionary {'name': 'Alice', 'age': 30}.\n",
        "dic={'name':'Alice','age':30}\n",
        "print(dic['name'])"
      ],
      "metadata": {
        "colab": {
          "base_uri": "https://localhost:8080/"
        },
        "id": "_fhiw5TawNXr",
        "outputId": "f3db053f-4164-4dd6-e16f-2af5f9952706"
      },
      "execution_count": 28,
      "outputs": [
        {
          "output_type": "stream",
          "name": "stdout",
          "text": [
            "Alice\n"
          ]
        }
      ]
    },
    {
      "cell_type": "code",
      "source": [
        "# 24.Write a code to remove the key \"age\" from the dictionary {'name': 'Bob', 'age': 22, 'city': 'New York'}.\n",
        "dic={'name':'Bob','age':22,'city':'New York'}\n",
        "del dic['age']\n",
        "print(dic)"
      ],
      "metadata": {
        "colab": {
          "base_uri": "https://localhost:8080/"
        },
        "id": "g3OFaioUwghh",
        "outputId": "0c919f06-7d32-4efd-f27c-3fb07ac57f77"
      },
      "execution_count": 29,
      "outputs": [
        {
          "output_type": "stream",
          "name": "stdout",
          "text": [
            "{'name': 'Bob', 'city': 'New York'}\n"
          ]
        }
      ]
    },
    {
      "cell_type": "code",
      "source": [
        "# 25.Write a code to check if the key \"city\" exists in the dictionary {'name': 'Alice', 'city': 'Paris'}.\n",
        "dic={'name':'Alice','city':'Paris'}\n",
        "if 'city' in dic:\n",
        "    print('city exists')"
      ],
      "metadata": {
        "colab": {
          "base_uri": "https://localhost:8080/"
        },
        "id": "0sdF0x7Mw0lr",
        "outputId": "3bc5d63c-62c9-4e12-9477-415ecd13c7b5"
      },
      "execution_count": 30,
      "outputs": [
        {
          "output_type": "stream",
          "name": "stdout",
          "text": [
            "city exists\n"
          ]
        }
      ]
    },
    {
      "cell_type": "code",
      "source": [
        "# 26.Write a code to create a list, a tuple, and a dictionary, and print them all.\n",
        "lis=[1,2,3]\n",
        "tup=(2,3,4)\n",
        "dic={'a':5,'b':6}\n",
        "print(lis,tup,dic)"
      ],
      "metadata": {
        "colab": {
          "base_uri": "https://localhost:8080/"
        },
        "id": "zgmjBJFlxGaj",
        "outputId": "2c28ecf4-4af8-48ee-9b2b-bea31ece69eb"
      },
      "execution_count": 31,
      "outputs": [
        {
          "output_type": "stream",
          "name": "stdout",
          "text": [
            "[1, 2, 3] (2, 3, 4) {'a': 5, 'b': 6}\n"
          ]
        }
      ]
    },
    {
      "cell_type": "code",
      "source": [
        "# 27.Write a code to create a list of 5 random numbers between 1 and 100, sort it in ascending order, and print the result.(replaced)\n",
        "lis=[55,78,12,45,6]\n",
        "lis.sort()\n",
        "lis\n"
      ],
      "metadata": {
        "colab": {
          "base_uri": "https://localhost:8080/"
        },
        "id": "ICRp_qDoyWhy",
        "outputId": "ce7f53df-261c-4471-e07c-d88101c8ea42"
      },
      "execution_count": 33,
      "outputs": [
        {
          "output_type": "execute_result",
          "data": {
            "text/plain": [
              "[6, 12, 45, 55, 78]"
            ]
          },
          "metadata": {},
          "execution_count": 33
        }
      ]
    },
    {
      "cell_type": "code",
      "source": [
        "# 28.Write a code to create a list with strings and print the element at the third index.\n",
        "lis=['abhi','bhav','tarun','alice']\n",
        "print(lis[3])"
      ],
      "metadata": {
        "colab": {
          "base_uri": "https://localhost:8080/"
        },
        "id": "AP_cbuU3ypxG",
        "outputId": "d4486fcb-df03-45f5-e66c-7cbf9436381f"
      },
      "execution_count": 34,
      "outputs": [
        {
          "output_type": "stream",
          "name": "stdout",
          "text": [
            "alice\n"
          ]
        }
      ]
    },
    {
      "cell_type": "code",
      "source": [
        "# 29.Write a code to combine two dictionaries into one and print the result.\n",
        "dic1={'a':1,'b':2}\n",
        "dic2={'c':3,'d':4}\n",
        "dic1.update(dic2)\n",
        "print(dic1)"
      ],
      "metadata": {
        "colab": {
          "base_uri": "https://localhost:8080/"
        },
        "id": "Anog4FUUzAUb",
        "outputId": "936065c0-3eda-421e-bd14-0ffd9681876c"
      },
      "execution_count": 35,
      "outputs": [
        {
          "output_type": "stream",
          "name": "stdout",
          "text": [
            "{'a': 1, 'b': 2, 'c': 3, 'd': 4}\n"
          ]
        }
      ]
    },
    {
      "cell_type": "code",
      "source": [
        "# 30.Write a code to convert a list of strings into a set.\n",
        "lis=[1,34,2,3,2,3]\n",
        "set(lis)"
      ],
      "metadata": {
        "colab": {
          "base_uri": "https://localhost:8080/"
        },
        "id": "fpOqn6nVzJdW",
        "outputId": "07258875-8fca-40ff-e90f-7425cf3773b7"
      },
      "execution_count": 36,
      "outputs": [
        {
          "output_type": "execute_result",
          "data": {
            "text/plain": [
              "{1, 2, 3, 34}"
            ]
          },
          "metadata": {},
          "execution_count": 36
        }
      ]
    }
  ]
}