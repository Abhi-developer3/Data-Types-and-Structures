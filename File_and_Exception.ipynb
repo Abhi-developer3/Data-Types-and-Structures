{
  "nbformat": 4,
  "nbformat_minor": 0,
  "metadata": {
    "colab": {
      "provenance": []
    },
    "kernelspec": {
      "name": "python3",
      "display_name": "Python 3"
    },
    "language_info": {
      "name": "python"
    }
  },
  "cells": [
    {
      "cell_type": "markdown",
      "source": [
        "# **File and Exception handling**"
      ],
      "metadata": {
        "id": "d6sozTCTUhJi"
      }
    },
    {
      "cell_type": "markdown",
      "source": [
        "Theoretical Questions"
      ],
      "metadata": {
        "id": "VIJaJUxhUzx6"
      }
    },
    {
      "cell_type": "markdown",
      "source": [
        "1. What is the difference between interpreted and compiled languages?\n",
        "- Compiled: Translates code to machine language before execution (e.g., C, C++).\n",
        "- Interpreted: Executes code line-by-line using an interpreter (e.g., Python).\n",
        "2. What is exception handling in Python?\n",
        "- Exception handling in Python is a way to manage errors that occur during program execution without crashing the program. It uses the try, except, else, and finally blocks to catch and handle exceptions.\n",
        "3. What is the purpose of the finally block in exception handling?\n",
        "- Executes regardless of exceptions; used for cleanup operations like closing files.\n",
        "4. What is logging in Python?\n",
        "- Logging in Python is the process of recording messages about a program’s execution, which helps in debugging, monitoring, and tracking errors.Instead of using print(), Python’s logging module provides more control over what gets logged, where, and at what level.\n",
        "5. What is the significance of the __del__ method in Python?\n",
        "- The del method in Python is a destructor method that is called when an object is about to be destroyed (i.e., when it is garbage collected).\n",
        "6. What is the difference between import and from ... import in Python?\n",
        "- import module: Access with module.name.\n",
        "\n",
        "- from module import name: Access directly as name.\n",
        "7. How can you handle multiple exceptions in Python?\n",
        "- In Python, multiple exceptions can be handled in two main ways:\n",
        "\n",
        "- Using multiple except blocks: Each exception type is caught and handled in a separate except block. This allows different actions for different exceptions.\n",
        "\n",
        "- Using a single except block with a tuple of exceptions: Multiple exception types can be grouped in a tuple and handled by the same block, useful when the same response is needed for different errors.\n",
        "8. What is the purpose of the with statement when handling files in Python?\n",
        "- The purpose of the with statement when handling files in Python is to automatically manage resources, especially opening and closing files.It ensures that the file is properly closed, even if an exception occurs during file operations. This makes the code cleaner, safer, and more efficient.It simplifies file handling by eliminating the need to explicitly call file.close().\n",
        "9. What is the difference between multithreading and multiprocessing?\n",
        "- Multithreading: Multiple threads within a single process (shared memory).\n",
        "\n",
        "- Multiprocessing: Multiple processes (separate memory spaces).\n",
        "10. What are the advantages of using logging in a program?\n",
        "- Better Debugging: Logs provide valuable insights into the flow of execution, helping to identify errors or unexpected behaviors.\n",
        "\n",
        "- Persistent Records: Logs offer a way to store a permanent record of events, which can be reviewed later for analysis or troubleshooting.\n",
        "11. What is memory management in Python?\n",
        "- Memory management in Python refers to the process of managing the allocation and deallocation of memory for objects and data structures during the program's execution. Python handles memory management automatically, but it's essential to understand how it works.\n",
        "12. What are the basic steps involved in exception handling in Python?\n",
        "- try block: This is where you write the code that might cause an exception. The purpose of the try block is to attempt the execution of code that could potentially raise an error.\n",
        "\n",
        "- except block: When an exception occurs inside the try block, the except block is executed to handle that specific exception. You can have multiple except blocks to handle different types of exceptions.\n",
        "13. Why is memory management important in Python?\n",
        "- Memory management in Python is important because it ensures efficient use of resources, prevents memory leaks, optimizes performance, and manages object lifecycles. It allows automatic garbage collection, freeing up memory from unused objects, and ensures the program runs smoothly and scales well, especially for large applications.\n",
        "14. What is the role of try and except in exception handling?\n",
        "- Prevent crashes by handling unexpected runtime errors.\n",
        "15. How does Python's garbage collection system work?\n",
        "- Automatically reclaims memory by removing objects with no references.\n",
        "16. What is the purpose of the else block in exception handling?\n",
        "- The purpose of the else block in exception handling is to define a block of code that should be executed only if no exception is raised in the try block. It is used to separate normal execution logic from error-handling logic.\n",
        "17. What are the common logging levels in Python?\n",
        "- DEBUG: Detailed information for debugging.\n",
        "- INFO: General information about the application.\n",
        "- WARNING: Non-critical issues that may need attention.\n",
        "- ERROR: Errors that affect functionality but not the whole system.\n",
        "- CRITICAL: Severe errors that may cause the program to stop.\n",
        "18. What is the difference between os.fork() and multiprocessing in Python?\n",
        "- os.fork(): A low-level, Unix-only function that creates a child process, sharing memory between parent and child.\n",
        "- multiprocessing: A high-level, cross-platform module that creates independent processes with separate memory, making it safer and easier to work with parallelism.\n",
        "19. What is the importance of closing a file in Python?\n",
        "- Closing a file in Python is important to release system resources, ensure data is saved properly, and prevent errors in future file operations. Using the with statement automatically handles this.\n",
        "20. What is the difference between file.read() and file.readline() in Python?\n",
        "- file.read() reads the entire file, while file.readline() reads one line at a time.\n",
        "21. What is the logging module in Python used for?\n",
        "- The logging module in Python is used for tracking and recording events, errors, and other information during program execution. It provides a flexible framework for writing log messages to different outputs (e.g., console, files) and categorizing them by severity (e.g., DEBUG, INFO, ERROR, CRITICAL).\n",
        "22. What is the os module in Python used for in file handling?\n",
        "- The os module in Python is used for interacting with the operating system, including file handling. It provides various functions to manage files and directories, such as:\n",
        "- Creating, removing, and renaming files and directories (os.mkdir(), os.remove(), os.rename(), etc.).\n",
        "- Navigating the file system (os.getcwd()).\n",
        "- hecking if a file or directory exists (os.path.exists()).\n",
        "- Listing files in a directory (os.listdir()).\n",
        "- Getting file information (os.path.getsize(), os.path.abspath()).\n",
        "23. What are the challenges associated with memory management in Python?\n",
        "- The challenges associated with memory management in Python include:\n",
        "- Memory Leaks: Even though Python has automatic garbage collection, circular references or objects with references that aren't cleared can still lead to memory leaks.\n",
        "- Limited Control Over Memory: Python abstracts memory management from the developer, making it harder to fine-tune or optimize memory usage compared to languages like C/C++.\n",
        "- Garbage Collection Overhead: Python’s garbage collector occasionally scans for unreferenced objects, which can introduce performance overhead, especially in memory-intensive applications.\n",
        "- High Memory Usage: Python’s dynamic typing and the overhead of its object model can lead to higher memory usage compared to lower-level languages.\n",
        "- Memory Fragmentation: As Python creates and destroys objects, memory fragmentation can occur, leading to inefficient memory usage.\n",
        "24. How do you raise an exception manually in Python?\n",
        "- You can raise an exception manually in Python using the raise keyword followed by the exception you want to raise.\n",
        "25. Why is it important to use multithreading in certain applications?\n",
        "- Multithreading improves performance, resource utilization, and responsiveness by allowing concurrent execution of tasks, especially in I/O-bound or real-time applications.\n"
      ],
      "metadata": {
        "id": "SoMH6gflVC9T"
      }
    },
    {
      "cell_type": "markdown",
      "source": [
        "Practical Questions"
      ],
      "metadata": {
        "id": "cRjw5M4igZmV"
      }
    },
    {
      "cell_type": "code",
      "source": [
        "# 1.How can you open a file for writing in Python and write a string to it?\n",
        "with open(\"file.txt\", \"w\") as file:\n",
        "    file.write(\"Hello!\\n\")\n",
        "    file.write(\"I am Abhishek\\n\")\n",
        "    file.write(\"I live in Punjab\\n\")\n"
      ],
      "metadata": {
        "id": "3U3mn4iWgfUo"
      },
      "execution_count": 4,
      "outputs": []
    },
    {
      "cell_type": "code",
      "source": [
        "# 2.Write a Python program to read the contents of a file and print each line?\n",
        "with open(\"file.txt\", \"r\") as file:\n",
        "    for line in file:\n",
        "        print(line)"
      ],
      "metadata": {
        "colab": {
          "base_uri": "https://localhost:8080/"
        },
        "id": "lVEdqhNqhL2e",
        "outputId": "a07ee38b-65de-4297-90ce-c21daf3fe179"
      },
      "execution_count": 5,
      "outputs": [
        {
          "output_type": "stream",
          "name": "stdout",
          "text": [
            "Hello!\n",
            "\n",
            "I am Abhishek\n",
            "\n",
            "I live in Punjab\n",
            "\n"
          ]
        }
      ]
    },
    {
      "cell_type": "code",
      "source": [
        "# 3.How would you handle a case where the file doesn't exist while trying to open it for reading?\n",
        "try:\n",
        "  with open(\"non_existent_file.txt\", \"r\") as file:\n",
        "    content = file.read()\n",
        "except FileNotFoundError as e:\n",
        "  print(\"File not found.\",e)"
      ],
      "metadata": {
        "colab": {
          "base_uri": "https://localhost:8080/"
        },
        "id": "bYrWGHC9hfQ1",
        "outputId": "e5f9d543-18e3-4646-e31b-76043b186453"
      },
      "execution_count": 8,
      "outputs": [
        {
          "output_type": "stream",
          "name": "stdout",
          "text": [
            "File not found. [Errno 2] No such file or directory: 'non_existent_file.txt'\n"
          ]
        }
      ]
    },
    {
      "cell_type": "code",
      "source": [
        "# 4.Write a Python script that reads from one file and writes its content to another file.\n",
        "with open(\"file.txt\", \"r\") as source_file:\n",
        "    content = source_file.read()\n",
        "with open(\"new_file.txt\", \"w\") as file:\n",
        "    file.write(content)"
      ],
      "metadata": {
        "id": "n603jzIhh46v"
      },
      "execution_count": 9,
      "outputs": []
    },
    {
      "cell_type": "code",
      "source": [
        "# 5.How would you catch and handle division by zero error in Python?\n",
        "try:\n",
        "    result = 10 / 0\n",
        "except ZeroDivisionError as e:\n",
        "    print(\"Error:\", e)"
      ],
      "metadata": {
        "colab": {
          "base_uri": "https://localhost:8080/"
        },
        "id": "sW1OHYWqiIqi",
        "outputId": "0c3bb826-32f7-4b62-f9f2-8b72ee3ca284"
      },
      "execution_count": 10,
      "outputs": [
        {
          "output_type": "stream",
          "name": "stdout",
          "text": [
            "Error: division by zero\n"
          ]
        }
      ]
    },
    {
      "cell_type": "code",
      "source": [
        "# 6.Write a Python program that logs an error message to a log file when a division by zero exception occurs.\n",
        "import logging\n",
        "\n",
        "logging.basicConfig(filename=\"error.log\", level=logging.ERROR)\n",
        "\n",
        "try:\n",
        "    result = 10 / 0\n",
        "except ZeroDivisionError as e:\n",
        "    logging.error(\"Division by zero error: %s\", e)"
      ],
      "metadata": {
        "colab": {
          "base_uri": "https://localhost:8080/"
        },
        "id": "AkWzSCWgiQlx",
        "outputId": "33cbcede-0ed8-49b0-8d2c-effb8ca08772"
      },
      "execution_count": 11,
      "outputs": [
        {
          "output_type": "stream",
          "name": "stderr",
          "text": [
            "ERROR:root:Division by zero error: division by zero\n"
          ]
        }
      ]
    },
    {
      "cell_type": "code",
      "source": [
        "# 7. How do you log information at different levels (INFO, ERROR, WARNING) in Python using the logging module?\n",
        "import logging\n",
        "\n",
        "logging.basicConfig(filename=\"log.txt\", level=logging.INFO)\n",
        "logging.info(\"This is an info message.\")\n",
        "logging.warning(\"Warning message\")\n",
        "logging.error(\"Error message\")"
      ],
      "metadata": {
        "colab": {
          "base_uri": "https://localhost:8080/"
        },
        "id": "diG3PZtWidn2",
        "outputId": "8eec9eca-ceda-4b61-cfec-730de2855c34"
      },
      "execution_count": 12,
      "outputs": [
        {
          "output_type": "stream",
          "name": "stderr",
          "text": [
            "WARNING:root:Warning message\n",
            "ERROR:root:Error message\n"
          ]
        }
      ]
    },
    {
      "cell_type": "code",
      "source": [
        "# 8.Write a program to handle a file opening error using exception handling.\n",
        "try:\n",
        "    f=open('abc.txt','r')\n",
        "    print(f.read())\n",
        "    f.close()\n",
        "except FileNotFoundError as e:\n",
        "    print(e)"
      ],
      "metadata": {
        "colab": {
          "base_uri": "https://localhost:8080/"
        },
        "id": "u9O5C2Iti3w4",
        "outputId": "62a365fa-78b0-4e5c-b1e2-6539bd073ac7"
      },
      "execution_count": 15,
      "outputs": [
        {
          "output_type": "stream",
          "name": "stdout",
          "text": [
            "[Errno 2] No such file or directory: 'abc.txt'\n"
          ]
        }
      ]
    },
    {
      "cell_type": "code",
      "source": [
        "# 9. How can you read a file line by line and store its content in a list in Python?\n",
        "file=open('file.txt','r')\n",
        "data=file.readlines()\n",
        "print(data)\n",
        "file.close()"
      ],
      "metadata": {
        "colab": {
          "base_uri": "https://localhost:8080/"
        },
        "id": "MLCV1b8MjkOX",
        "outputId": "8844bbd2-94de-41b1-8350-553b7842e9f5"
      },
      "execution_count": 16,
      "outputs": [
        {
          "output_type": "stream",
          "name": "stdout",
          "text": [
            "['Hello!\\n', 'I am Abhishek\\n', 'I live in Punjab\\n']\n"
          ]
        }
      ]
    },
    {
      "cell_type": "code",
      "source": [
        "# 10.How can you append data to an existing file in Python?\n",
        "with open(\"file.txt\", \"a\") as file:\n",
        "    file.write(\"This is appended data.\\n\")"
      ],
      "metadata": {
        "id": "si4Xlewcj8gT"
      },
      "execution_count": 17,
      "outputs": []
    },
    {
      "cell_type": "code",
      "source": [
        "# 11.Write a Python program that uses a try-except block to handle an error when attempting to access a dictionary key that doesn't exist.\n",
        "try:\n",
        "    d={'name':'abhi',\n",
        "       'age':20}\n",
        "    d['address']\n",
        "except KeyError as e:\n",
        "    print(f' key:{e} does not exist in the dictionary')\n"
      ],
      "metadata": {
        "colab": {
          "base_uri": "https://localhost:8080/"
        },
        "id": "a6638EuUkISe",
        "outputId": "e1412dd6-6d0f-4bd0-85ae-e4adda924bfd"
      },
      "execution_count": 18,
      "outputs": [
        {
          "output_type": "stream",
          "name": "stdout",
          "text": [
            " key:'address' does not exist in the dictionary\n"
          ]
        }
      ]
    },
    {
      "cell_type": "code",
      "source": [
        "# 12.Write a program that demonstrates using multiple except blocks to handle different types of exceptions.\n",
        "try:\n",
        "    num=int(input('enter numerator'))\n",
        "    deno=int(input('enter denomenator'))\n",
        "    re=num/deno\n",
        "    print(re)\n",
        "\n",
        "except ZeroDivisionError as e:\n",
        "    print('error:',e)\n",
        "\n",
        "except  ValueError as e:\n",
        "    print('error:',e)"
      ],
      "metadata": {
        "colab": {
          "base_uri": "https://localhost:8080/"
        },
        "id": "E6wmNEpHk2UK",
        "outputId": "c8e0b982-e6f5-4fef-e82e-3f88a08ef1d4"
      },
      "execution_count": 19,
      "outputs": [
        {
          "output_type": "stream",
          "name": "stdout",
          "text": [
            "enter numerator34\n",
            "enter denomenator0\n",
            "error: division by zero\n"
          ]
        }
      ]
    },
    {
      "cell_type": "code",
      "source": [
        "# 13.How would you check if a file exists before attempting to read it in Python?\n",
        "import os\n",
        "file_name=input(\"enter the file name\")\n",
        "if os.path.exists(file_name):\n",
        "    with open(file_name,'r') as f:\n",
        "        data=f.read()\n",
        "        print(data)\n",
        "else :\n",
        "    print('file does not exist')\n"
      ],
      "metadata": {
        "colab": {
          "base_uri": "https://localhost:8080/"
        },
        "id": "PrjJUJfElaUz",
        "outputId": "f0e0b98a-46cf-4564-8921-342fb7dda033"
      },
      "execution_count": 20,
      "outputs": [
        {
          "output_type": "stream",
          "name": "stdout",
          "text": [
            "enter the file namenew.txt\n",
            "file does not exist\n"
          ]
        }
      ]
    },
    {
      "cell_type": "code",
      "source": [
        "# 14.Write a program that uses the logging module to log both informational and error messages.\n",
        "import logging\n",
        "logging.basicConfig(filename=\"app.log\", level=logging.INFO)\n",
        "logging.info(\"Started\")\n",
        "try:\n",
        "    x = 1 / 0\n",
        "except ZeroDivisionError as e:\n",
        "    logging.error(f\"Error: {e}\")\n"
      ],
      "metadata": {
        "colab": {
          "base_uri": "https://localhost:8080/"
        },
        "id": "KRUWa0dUlp_R",
        "outputId": "80fd222d-0b63-4d9e-8ed6-083e9d44ddc5"
      },
      "execution_count": 21,
      "outputs": [
        {
          "output_type": "stream",
          "name": "stderr",
          "text": [
            "ERROR:root:Error: division by zero\n"
          ]
        }
      ]
    },
    {
      "cell_type": "code",
      "source": [
        "# 15.Write a Python program that prints the content of a file and handles the case when the file is empty.\n",
        "try:\n",
        "    with open(\"file.txt\", \"r\") as file:\n",
        "        content = file.read()\n",
        "        if content:\n",
        "            print(content)\n",
        "        else:\n",
        "            print(\"The file is empty.\")\n",
        "except FileNotFoundError:\n",
        "    print(\"File not found.\")"
      ],
      "metadata": {
        "colab": {
          "base_uri": "https://localhost:8080/"
        },
        "id": "JQhMVlsBl11H",
        "outputId": "770a7c50-6f7f-4584-cba6-6f88df80797f"
      },
      "execution_count": 22,
      "outputs": [
        {
          "output_type": "stream",
          "name": "stdout",
          "text": [
            "Hello!\n",
            "I am Abhishek\n",
            "I live in Punjab\n",
            "This is appended data.\n",
            "\n"
          ]
        }
      ]
    },
    {
      "cell_type": "code",
      "source": [
        "! pip install memory-profiler\n"
      ],
      "metadata": {
        "colab": {
          "base_uri": "https://localhost:8080/"
        },
        "id": "dtoUlgNnmYXC",
        "outputId": "efe67757-cbd3-40e1-8e25-d81632b8ca50"
      },
      "execution_count": 24,
      "outputs": [
        {
          "output_type": "stream",
          "name": "stdout",
          "text": [
            "Collecting memory-profiler\n",
            "  Downloading memory_profiler-0.61.0-py3-none-any.whl.metadata (20 kB)\n",
            "Requirement already satisfied: psutil in /usr/local/lib/python3.11/dist-packages (from memory-profiler) (5.9.5)\n",
            "Downloading memory_profiler-0.61.0-py3-none-any.whl (31 kB)\n",
            "Installing collected packages: memory-profiler\n",
            "Successfully installed memory-profiler-0.61.0\n"
          ]
        }
      ]
    },
    {
      "cell_type": "code",
      "source": [
        "# 16.Demonstrate how to use memory profiling to check the memory usage of a small program.\n",
        "\n",
        "%load_ext memory_profiler\n",
        "\n",
        "\n",
        "def create_list():\n",
        "    a = [i for i in range(1000000)]\n",
        "    b = [i*2 for i in range(1000000)]\n",
        "    return a, b\n",
        "\n",
        "\n",
        "%memit create_list()\n"
      ],
      "metadata": {
        "colab": {
          "base_uri": "https://localhost:8080/"
        },
        "id": "7PV2ITzBmCr3",
        "outputId": "6d0067f5-c4ab-42c1-c54b-22f9c9681c03"
      },
      "execution_count": 25,
      "outputs": [
        {
          "output_type": "stream",
          "name": "stdout",
          "text": [
            "peak memory: 192.24 MiB, increment: 77.41 MiB\n"
          ]
        }
      ]
    },
    {
      "cell_type": "code",
      "source": [
        "# 17.Write a Python program to create and write a list of numbers to a file, one number per line.\n",
        "with open(\"numbers.txt\", \"w\") as file:\n",
        "    numbers = [1, 2, 3, 4, 5]\n",
        "    for num in numbers:\n",
        "        file.write(str(num) + \"\\n\")\n",
        "with open('numbers.txt','r') as f:\n",
        "    data=f.read()\n",
        "    print(data)"
      ],
      "metadata": {
        "colab": {
          "base_uri": "https://localhost:8080/"
        },
        "id": "9zbOwDPPmcdy",
        "outputId": "72d7689e-144a-486a-c9b0-b4edb7f04360"
      },
      "execution_count": 27,
      "outputs": [
        {
          "output_type": "stream",
          "name": "stdout",
          "text": [
            "1\n",
            "2\n",
            "3\n",
            "4\n",
            "5\n",
            "\n"
          ]
        }
      ]
    },
    {
      "cell_type": "code",
      "source": [
        "# 18.How would you implement a basic logging setup that logs to a file with rotation after 1MB?\n",
        "import logging\n",
        "from logging.handlers import RotatingFileHandler\n",
        "\n",
        "logger = logging.getLogger('my_logger')\n",
        "logger.setLevel(logging.INFO)\n",
        "\n",
        "handler = RotatingFileHandler('app.log', maxBytes=1048576, backupCount=3)\n",
        "\n",
        "formatter = logging.Formatter('%(asctime)s - %(levelname)s - %(message)s')\n",
        "\n",
        "\n",
        "handler.setFormatter(formatter)\n",
        "\n",
        "logger.addHandler(handler)\n",
        "\n",
        "\n",
        "logger.info('This is an info message')\n",
        "logger.error('This is an error message')"
      ],
      "metadata": {
        "colab": {
          "base_uri": "https://localhost:8080/"
        },
        "id": "gVze-ANxm_L5",
        "outputId": "901c8137-696a-4b86-9873-c7e191e3c938"
      },
      "execution_count": 28,
      "outputs": [
        {
          "output_type": "stream",
          "name": "stderr",
          "text": [
            "INFO:my_logger:This is an info message\n",
            "ERROR:my_logger:This is an error message\n"
          ]
        }
      ]
    },
    {
      "cell_type": "code",
      "source": [
        "# 19.Write a program that handles both IndexError and KeyError using a try-except block.\n",
        "try:\n",
        "    l=[1,2,3,34,5]\n",
        "    print(l[10])\n",
        "except IndexError as e:\n",
        "    print(e)\n",
        "\n",
        "try:\n",
        "    dic={'name':'bhavsagar','age':20}\n",
        "    print(dic['address'])\n",
        "except KeyError as e:\n",
        "    print(e,'--> key does not exist in the dictionary')"
      ],
      "metadata": {
        "colab": {
          "base_uri": "https://localhost:8080/"
        },
        "id": "0uU-aCaJnNyz",
        "outputId": "4ab0cf32-c669-4af1-b424-3d7fb0f6e960"
      },
      "execution_count": 29,
      "outputs": [
        {
          "output_type": "stream",
          "name": "stdout",
          "text": [
            "list index out of range\n",
            "'address' --> key does not exist in the dictionary\n"
          ]
        }
      ]
    },
    {
      "cell_type": "code",
      "source": [
        "# 20.How would you open a file and read its contents using a context manager in Python?\n",
        "with open('file.txt','r') as f:\n",
        "    data=f.read()\n",
        "    print(data)"
      ],
      "metadata": {
        "colab": {
          "base_uri": "https://localhost:8080/"
        },
        "id": "J1xo0zYNndAz",
        "outputId": "8f9ccc16-2963-4b17-c82e-79967c992f2b"
      },
      "execution_count": 30,
      "outputs": [
        {
          "output_type": "stream",
          "name": "stdout",
          "text": [
            "Hello!\n",
            "I am Abhishek\n",
            "I live in Punjab\n",
            "This is appended data.\n",
            "\n"
          ]
        }
      ]
    },
    {
      "cell_type": "code",
      "source": [
        "# 21.Write a Python program that reads a file and prints the number of occurrences of a specific word.\n",
        "count=0\n",
        "word=input('enter the word to be searched:')\n",
        "with open('file.txt','r') as f:\n",
        "    data=f.read()\n",
        "    words=data.split()\n",
        "\n",
        "    for i in words:\n",
        "        if i==word:\n",
        "            count+=1\n",
        "\n",
        "    print(f'number of times \"{word}\" occur in file = {count}')"
      ],
      "metadata": {
        "colab": {
          "base_uri": "https://localhost:8080/"
        },
        "id": "PC-knFpJnpZE",
        "outputId": "c85eaccc-8697-4a09-ce85-f798307183d9"
      },
      "execution_count": 32,
      "outputs": [
        {
          "output_type": "stream",
          "name": "stdout",
          "text": [
            "enter the word to be searched:I\n",
            "number of times \"I\" occur in file = 2\n"
          ]
        }
      ]
    },
    {
      "cell_type": "code",
      "source": [
        "# 22.How can you check if a file is empty before attempting to read its contents?\n",
        "import os\n",
        "if os.path.getsize('file.txt')==0:\n",
        "    print('file is empty')\n",
        "else :\n",
        "    with open('file.txt','r') as f:\n",
        "     print(f.read())"
      ],
      "metadata": {
        "colab": {
          "base_uri": "https://localhost:8080/"
        },
        "id": "ks8rwRdnoAmO",
        "outputId": "564cb171-04d3-4c67-bebe-e043723cf0a8"
      },
      "execution_count": 34,
      "outputs": [
        {
          "output_type": "stream",
          "name": "stdout",
          "text": [
            "Hello!\n",
            "I am Abhishek\n",
            "I live in Punjab\n",
            "This is appended data.\n",
            "\n"
          ]
        }
      ]
    },
    {
      "cell_type": "code",
      "source": [
        "# 23.Write a Python program that writes to a log file when an error occurs during file handling.\n",
        "import logging\n",
        "logging.basicConfig(filename='app1.log',level=logging.DEBUG,format='%(asctime)s - %(levelname)s - %(message)s' )\n",
        "file_name=input(\"enter the file name:\")\n",
        "try:\n",
        "    with open(file_name,'r') as  f:\n",
        "        data=f.read()\n",
        "        print(data)\n",
        "except FileNotFoundError as e:\n",
        "    print('error :file does not exist')\n",
        "    logging.error(f\"FileNotFoundError: {e}\")"
      ],
      "metadata": {
        "colab": {
          "base_uri": "https://localhost:8080/"
        },
        "id": "rnP7Th_xok3d",
        "outputId": "b7492f93-1668-41eb-ec8c-8716445544d6"
      },
      "execution_count": 35,
      "outputs": [
        {
          "name": "stdout",
          "output_type": "stream",
          "text": [
            "enter the file name:new\n"
          ]
        },
        {
          "output_type": "stream",
          "name": "stderr",
          "text": [
            "ERROR:root:FileNotFoundError: [Errno 2] No such file or directory: 'new'\n"
          ]
        },
        {
          "output_type": "stream",
          "name": "stdout",
          "text": [
            "error :file does not exist\n"
          ]
        }
      ]
    }
  ]
}